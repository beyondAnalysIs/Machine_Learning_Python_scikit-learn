{
 "cells": [
  {
   "cell_type": "code",
   "execution_count": 253,
   "id": "1d0b09f5",
   "metadata": {},
   "outputs": [],
   "source": [
    "import pandas as pd\n",
    "import matplotlib.pyplot as plt"
   ]
  },
  {
   "cell_type": "markdown",
   "id": "0c3c49c4",
   "metadata": {},
   "source": [
    "====== CARGAR EL DATASET ======="
   ]
  },
  {
   "cell_type": "code",
   "execution_count": 254,
   "id": "79640c77",
   "metadata": {},
   "outputs": [
    {
     "name": "stdout",
     "output_type": "stream",
     "text": [
      "✅ Archivo cargado correctamente\n"
     ]
    }
   ],
   "source": [
    "# Carga de archivos\n",
    "try:\n",
    "    # archivo csv con separador';' \n",
    "    df = pd.read_csv(r'C:\\\\Users\\\\ander\\\\Escritorio\\\\PYTHON\\\\Python 2025\\\\machine_learning\\\\datasets\\\\Salary_Data.csv', sep=',', encoding='utf-8-sig')\n",
    "    print('✅ Archivo cargado correctamente')\n",
    "except FileNotFoundError:\n",
    "    print('❌ Error al cargar el archivo')"
   ]
  },
  {
   "cell_type": "code",
   "execution_count": 255,
   "id": "2fc7c771",
   "metadata": {},
   "outputs": [
    {
     "name": "stdout",
     "output_type": "stream",
     "text": [
      "\n",
      "    Tamaño del dataset: \n",
      "(375, 6)\n",
      "\n",
      "\n",
      "    Informaciáon básica: \n",
      "<bound method DataFrame.info of       Age  Gender Education Level                      Job Title  \\\n",
      "0    32.0    Male      Bachelor's              Software Engineer   \n",
      "1    28.0  Female        Master's                   Data Analyst   \n",
      "2    45.0    Male             PhD                 Senior Manager   \n",
      "3    36.0  Female      Bachelor's                Sales Associate   \n",
      "4    52.0    Male        Master's                       Director   \n",
      "..    ...     ...             ...                            ...   \n",
      "370  35.0  Female      Bachelor's       Senior Marketing Analyst   \n",
      "371  43.0    Male        Master's         Director of Operations   \n",
      "372  29.0  Female      Bachelor's         Junior Project Manager   \n",
      "373  34.0    Male      Bachelor's  Senior Operations Coordinator   \n",
      "374  44.0  Female             PhD        Senior Business Analyst   \n",
      "\n",
      "     Years of Experience    Salary  \n",
      "0                    5.0   90000.0  \n",
      "1                    3.0   65000.0  \n",
      "2                   15.0  150000.0  \n",
      "3                    7.0   60000.0  \n",
      "4                   20.0  200000.0  \n",
      "..                   ...       ...  \n",
      "370                  8.0   85000.0  \n",
      "371                 19.0  170000.0  \n",
      "372                  2.0   40000.0  \n",
      "373                  7.0   90000.0  \n",
      "374                 15.0  150000.0  \n",
      "\n",
      "[375 rows x 6 columns]>\n",
      "\n",
      "\n",
      "    columnas: \n",
      "Index(['Age', 'Gender', 'Education Level', 'Job Title', 'Years of Experience',\n",
      "       'Salary'],\n",
      "      dtype='object')\n",
      "\n",
      "\n",
      "    Valores nulos: \n",
      "Age                    2\n",
      "Gender                 2\n",
      "Education Level        2\n",
      "Job Title              2\n",
      "Years of Experience    2\n",
      "Salary                 2\n",
      "dtype: int64\n",
      "\n",
      "\n",
      "    Valores únicos: \n",
      "Age                     31\n",
      "Gender                   2\n",
      "Education Level          3\n",
      "Job Title              174\n",
      "Years of Experience     28\n",
      "Salary                  36\n",
      "dtype: int64\n",
      "\n",
      "\n",
      "\n"
     ]
    }
   ],
   "source": [
    "# Información del dataset\n",
    "print(f'''\n",
    "    Tamaño del dataset: \\n{df.shape}\\n\\n\n",
    "    Informaciáon básica: \\n{df.info}\\n\\n\n",
    "    columnas: \\n{df.columns}\\n\\n\n",
    "    Valores nulos: \\n{df.isnull().sum()}\\n\\n\n",
    "    Valores únicos: \\n{df.nunique()}\\n\\n\n",
    "''')"
   ]
  },
  {
   "cell_type": "code",
   "execution_count": 256,
   "id": "16e18d5e",
   "metadata": {},
   "outputs": [
    {
     "name": "stdout",
     "output_type": "stream",
     "text": [
      " Estadística Descriptiva: \n",
      "                     count           mean           std    min      25%  \\\n",
      "Age                  373.0      37.431635      7.069073   23.0     31.0   \n",
      "Years of Experience  373.0      10.030831      6.557007    0.0      4.0   \n",
      "Salary               373.0  100577.345845  48240.013482  350.0  55000.0   \n",
      "\n",
      "                         50%       75%       max  \n",
      "Age                     36.0      44.0      53.0  \n",
      "Years of Experience      9.0      15.0      25.0  \n",
      "Salary               95000.0  140000.0  250000.0  \n"
     ]
    }
   ],
   "source": [
    "# Estadísticas descriptivas\n",
    "print(f' Estadística Descriptiva: \\n{df.describe().T}')  # .T transpone filas con columnas"
   ]
  },
  {
   "cell_type": "code",
   "execution_count": 257,
   "id": "25f959bb",
   "metadata": {},
   "outputs": [
    {
     "data": {
      "text/html": [
       "<div>\n",
       "<style scoped>\n",
       "    .dataframe tbody tr th:only-of-type {\n",
       "        vertical-align: middle;\n",
       "    }\n",
       "\n",
       "    .dataframe tbody tr th {\n",
       "        vertical-align: top;\n",
       "    }\n",
       "\n",
       "    .dataframe thead th {\n",
       "        text-align: right;\n",
       "    }\n",
       "</style>\n",
       "<table border=\"1\" class=\"dataframe\">\n",
       "  <thead>\n",
       "    <tr style=\"text-align: right;\">\n",
       "      <th></th>\n",
       "      <th>Age</th>\n",
       "      <th>Gender</th>\n",
       "      <th>Education Level</th>\n",
       "      <th>Job Title</th>\n",
       "      <th>Years of Experience</th>\n",
       "      <th>Salary</th>\n",
       "    </tr>\n",
       "  </thead>\n",
       "  <tbody>\n",
       "    <tr>\n",
       "      <th>0</th>\n",
       "      <td>32.0</td>\n",
       "      <td>Male</td>\n",
       "      <td>Bachelor's</td>\n",
       "      <td>Software Engineer</td>\n",
       "      <td>5.0</td>\n",
       "      <td>90000.0</td>\n",
       "    </tr>\n",
       "    <tr>\n",
       "      <th>1</th>\n",
       "      <td>28.0</td>\n",
       "      <td>Female</td>\n",
       "      <td>Master's</td>\n",
       "      <td>Data Analyst</td>\n",
       "      <td>3.0</td>\n",
       "      <td>65000.0</td>\n",
       "    </tr>\n",
       "    <tr>\n",
       "      <th>2</th>\n",
       "      <td>45.0</td>\n",
       "      <td>Male</td>\n",
       "      <td>PhD</td>\n",
       "      <td>Senior Manager</td>\n",
       "      <td>15.0</td>\n",
       "      <td>150000.0</td>\n",
       "    </tr>\n",
       "    <tr>\n",
       "      <th>3</th>\n",
       "      <td>36.0</td>\n",
       "      <td>Female</td>\n",
       "      <td>Bachelor's</td>\n",
       "      <td>Sales Associate</td>\n",
       "      <td>7.0</td>\n",
       "      <td>60000.0</td>\n",
       "    </tr>\n",
       "    <tr>\n",
       "      <th>4</th>\n",
       "      <td>52.0</td>\n",
       "      <td>Male</td>\n",
       "      <td>Master's</td>\n",
       "      <td>Director</td>\n",
       "      <td>20.0</td>\n",
       "      <td>200000.0</td>\n",
       "    </tr>\n",
       "  </tbody>\n",
       "</table>\n",
       "</div>"
      ],
      "text/plain": [
       "    Age  Gender Education Level          Job Title  Years of Experience  \\\n",
       "0  32.0    Male      Bachelor's  Software Engineer                  5.0   \n",
       "1  28.0  Female        Master's       Data Analyst                  3.0   \n",
       "2  45.0    Male             PhD     Senior Manager                 15.0   \n",
       "3  36.0  Female      Bachelor's    Sales Associate                  7.0   \n",
       "4  52.0    Male        Master's           Director                 20.0   \n",
       "\n",
       "     Salary  \n",
       "0   90000.0  \n",
       "1   65000.0  \n",
       "2  150000.0  \n",
       "3   60000.0  \n",
       "4  200000.0  "
      ]
     },
     "execution_count": 257,
     "metadata": {},
     "output_type": "execute_result"
    }
   ],
   "source": [
    "# primeras columnas\n",
    "df.head(5)"
   ]
  },
  {
   "cell_type": "code",
   "execution_count": 258,
   "id": "2a3d638a",
   "metadata": {},
   "outputs": [],
   "source": [
    "# tramamiento de valores nulos\n",
    "df_clean = df.dropna()\n"
   ]
  },
  {
   "cell_type": "markdown",
   "id": "2d866631",
   "metadata": {},
   "source": [
    "=== REGRESIÓN LINEAL SIMPLE ==="
   ]
  },
  {
   "cell_type": "code",
   "execution_count": 259,
   "id": "2c18048d",
   "metadata": {},
   "outputs": [
    {
     "data": {
      "text/plain": [
       "Index(['Age', 'Gender', 'Education Level', 'Job Title', 'Years of Experience',\n",
       "       'Salary'],\n",
       "      dtype='object')"
      ]
     },
     "execution_count": 259,
     "metadata": {},
     "output_type": "execute_result"
    }
   ],
   "source": [
    "df_clean.columns"
   ]
  },
  {
   "cell_type": "code",
   "execution_count": 260,
   "id": "07b5d3fc",
   "metadata": {},
   "outputs": [
    {
     "data": {
      "image/png": "[encoded data removed]",
      "text/plain": [
       "<Figure size 640x480 with 1 Axes>"
      ]
     },
     "metadata": {},
     "output_type": "display_data"
    },
    {
     "data": {
      "image/png": "[encoded data removed]",
      "text/plain": [
       "<Figure size 640x480 with 1 Axes>"
      ]
     },
     "metadata": {},
     "output_type": "display_data"
    }
   ],
   "source": [
    "cols = ['Age', 'Years of Experience']\n",
    "for col in cols:\n",
    "    plt.plot(df_clean[col],df_clean['Salary'], 'go')\n",
    "    plt.title(f'Distribucíon de Salarios  por {col}')\n",
    "    plt.xlabel(col)\n",
    "    plt.ylabel('Salario')\n",
    "    plt.show()"
   ]
  },
  {
   "cell_type": "code",
   "execution_count": 261,
   "id": "b9d70726",
   "metadata": {},
   "outputs": [
    {
     "name": "stdout",
     "output_type": "stream",
     "text": [
      "X_train: (298, 1)\n",
      "X_test: (75, 1)\n"
     ]
    }
   ],
   "source": [
    "# Importamos las librerías\n",
    "# no es recomendable usar todos los datos para predecir\n",
    "from sklearn.linear_model import LinearRegression\n",
    "from sklearn.model_selection import train_test_split\n",
    "from sklearn.metrics import mean_squared_error, r2_score # califican el modelo de regresión\n",
    "\n",
    "# Variable independiente\n",
    "df_clean['Age']\n",
    "X = df_clean[['Age']].values.reshape(-1, 1)\n",
    "\n",
    "# Variable dependiente\n",
    "y = df_clean['Salary'].values \n",
    "\n",
    "# Dividimos los datos en entrenamiento y prueba\n",
    "X_train, X_test, y_train, y_test = train_test_split(X, y, test_size=0.2, random_state=42)\n",
    "\n",
    "print(f'X_train: {X_train.shape}')\n",
    "print(f'X_test: {X_test.shape}')"
   ]
  },
  {
   "cell_type": "code",
   "execution_count": 266,
   "id": "6251dab8",
   "metadata": {},
   "outputs": [
    {
     "data": {
      "text/plain": [
       "array([167095.7084094 , 110448.79234386, 141919.30126916,  78978.28341856,\n",
       "       135625.1994841 ])"
      ]
     },
     "execution_count": 266,
     "metadata": {},
     "output_type": "execute_result"
    }
   ],
   "source": [
    "# creamos el modelo\n",
    "model = LinearRegression()\n",
    "# Entrenamos el modelo\n",
    "model.fit(X, y)\n",
    "\n",
    "# Realizamos predicciones\n",
    "y_predict = model.predict(X_test)\n",
    "\n",
    "# Valores que el modelo predice en base a los datos de prueba\n",
    "y_predict[:5]"
   ]
  },
  {
   "cell_type": "code",
   "execution_count": 267,
   "id": "7cc0e2fc",
   "metadata": {},
   "outputs": [
    {
     "name": "stdout",
     "output_type": "stream",
     "text": [
      "Predicciones: [167095.71 110448.79 141919.3   78978.28], Reales: [180000.  65000. 125000.  80000.]\n"
     ]
    }
   ],
   "source": [
    "# Calificación del modelo\n",
    "print('Predicciones: {}, Reales: {}'.format(y_predict[:4].round(2), y_test[:4]))"
   ]
  },
  {
   "cell_type": "code",
   "execution_count": 268,
   "id": "2f19864c",
   "metadata": {},
   "outputs": [
    {
     "name": "stdout",
     "output_type": "stream",
     "text": [
      "MSE: 355975974.1953763\n",
      "RMSE: 18867.33\n",
      "R2: 0.8515271047240931\n"
     ]
    }
   ],
   "source": [
    "import numpy as np\n",
    "# variables RMSE, indica que tanto varian los datos de la predicción respoect a los reales\n",
    "mse = mean_squared_error(y_test, y_predict)\n",
    "print(f'MSE: {mse}')\n",
    "rmse = np.sqrt(mse).round(2)\n",
    "print(f'RMSE: {rmse}')\n",
    "\n",
    "r2 = r2_score(y_test, y_predict)\n",
    "print(f'R2: {r2}')"
   ]
  },
  {
   "cell_type": "code",
   "execution_count": 265,
   "id": "643ceaf8",
   "metadata": {},
   "outputs": [
    {
     "name": "stdout",
     "output_type": "stream",
     "text": [
      "Salario promedio: 100577.34584450402\n",
      "\n",
      "RMSE como % del salario promedio: 18.9%\n"
     ]
    }
   ],
   "source": [
    "salary_mean = df['Salary'].mean()\n",
    "print(f'Salario promedio: {salary_mean}')\n",
    "rmse_percentage = (rmse / salary_mean) * 100\n",
    "print(f\"\\nRMSE como % del salario promedio: {rmse_percentage:.1f}%\")"
   ]
  },
  {
   "cell_type": "code",
   "execution_count": null,
   "id": "f4f2649d",
   "metadata": {},
   "outputs": [],
   "source": []
  }
 ],
 "metadata": {
  "kernelspec": {
   "display_name": "env_mach_learn",
   "language": "python",
   "name": "python3"
  },
  "language_info": {
   "codemirror_mode": {
    "name": "ipython",
    "version": 3
   },
   "file_extension": ".py",
   "mimetype": "text/x-python",
   "name": "python",
   "nbconvert_exporter": "python",
   "pygments_lexer": "ipython3",
   "version": "3.12.2"
  }
 },
 "nbformat": 4,
 "nbformat_minor": 5
}
